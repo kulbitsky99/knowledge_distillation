{
  "nbformat": 4,
  "nbformat_minor": 0,
  "metadata": {
    "kernelspec": {
      "display_name": "Python 3",
      "language": "python",
      "name": "python3"
    },
    "language_info": {
      "codemirror_mode": {
        "name": "ipython",
        "version": 3
      },
      "file_extension": ".py",
      "mimetype": "text/x-python",
      "name": "python",
      "nbconvert_exporter": "python",
      "pygments_lexer": "ipython3",
      "version": "3.7.4"
    },
    "colab": {
      "name": "knowledge_distillation.ipynb",
      "provenance": [],
      "collapsed_sections": []
    },
    "accelerator": "GPU"
  },
  "cells": [
    {
      "cell_type": "markdown",
      "metadata": {
        "id": "LzQCYanwgf35",
        "colab_type": "text"
      },
      "source": [
        "# Knowledge distillation experiment in a Computer Vision task\n",
        "\n",
        "Inspired by Coursera programming task on recognizing hand signs (from 0 to 5), I decided to carry out the research on this task. The idea of my knowledge distillation experiment is the following:\n",
        " \n",
        "\n",
        "*   to learn a cumbersome model on training data\n",
        "*   the cumbersome model almost always produces the correct answer\n",
        "with very high confidence, but still much of the information about the learned function resides in the ratios of very small probabilities in the soft targets -> while learning it is essential to pay attention on the `Temperature` hyperparameter - it is applied to the softmax output of the model to increase the level of chaos in a system (to increase entropy) - to increase values and impact of small probabilities\n",
        "*   try to learn a simple NN model, that imitates the results of the cumbersome model on the same training set\n",
        "*   try to learn this simple model just as the cumbersome model(on the same X_train, Y_train)\n",
        "*   compare two approaches and see if knowledge distillation works\n",
        "\n",
        "\n",
        "Let's start with importing all nesessary tools and frameworks!\n",
        "\n",
        "I will use Keras to learn the cumbersome model - it is my realization of the famous NN model - ResNet50. Tensorflow.v1 will be used to learn a simple NN model (I have an experience of working with tf.v1 but not tf.v2, still it is not essential here).\n",
        "\n",
        "resnet_utils.py contains load_dataset() function (took this code and the dataset(h5 files) from Coursera), random_mini_batches_nn() (my realization,which I used to write earlier).\n",
        "\n",
        "\n"
      ]
    },
    {
      "cell_type": "code",
      "metadata": {
        "id": "3qdxcnAtnsI_",
        "colab_type": "code",
        "colab": {}
      },
      "source": [
        "import numpy as np\n",
        "from keras import layers\n",
        "from keras.layers import Input, Add, Dense, Activation, ZeroPadding2D, BatchNormalization, Flatten, Conv2D, AveragePooling2D, MaxPooling2D\n",
        "from keras.models import Model\n",
        "from keras.preprocessing import image\n",
        "from keras.utils import layer_utils\n",
        "from keras.utils.data_utils import get_file\n",
        "from keras.applications.imagenet_utils import preprocess_input\n",
        "from keras.utils.vis_utils import model_to_dot\n",
        "from keras.utils import plot_model\n",
        "from resnet_utils import *\n",
        "from keras.initializers import glorot_uniform # Xavier initialization of weights\n",
        "import scipy.misc\n",
        "import matplotlib.pyplot as plt\n",
        "# from matplotlib.pyplot import imshow\n",
        "%matplotlib inline \n",
        "\n",
        "import tensorflow.compat.v1 as tf\n",
        "from tensorflow.python.framework import ops\n",
        "tf.disable_eager_execution()\n",
        "tf.disable_v2_behavior()\n",
        "from resnet_utils import *\n",
        "\n",
        "import keras.backend as K\n",
        "K.set_image_data_format('channels_last') #the last dimension in examples is a number of channels\n",
        "K.set_learning_phase(1) # training phase\n",
        "\n",
        "Temperature = 1000"
      ],
      "execution_count": 148,
      "outputs": []
    },
    {
      "cell_type": "markdown",
      "metadata": {
        "id": "TMdE7W1OuyR0",
        "colab_type": "text"
      },
      "source": [
        "I found it convenient to update the `Temperature` at the beginning. Small values (up to ~500) didn't work for my task, big values(from ~1200) didn't work as well. To my mind, it is connected with insufficient and excessive level of chaos in a system. The optimal `Temperature` to get more useful info from the output of the cumbersome model is ~1000.\n",
        "\n",
        "\n",
        "Let's move on to the realization of ResNet50!\n",
        "There are identity_block() and convolutional_block() functions below, which will be used in the model."
      ]
    },
    {
      "cell_type": "code",
      "metadata": {
        "id": "ZisHpgC8nsJF",
        "colab_type": "code",
        "colab": {}
      },
      "source": [
        "def identity_block(X, f, filters, stage, block):\n",
        "    \"\"\"\n",
        "    Implementation of the identity block\n",
        "    \n",
        "    Arguments:\n",
        "    X -- input tensor of shape (m, n_H_prev, n_W_prev, n_C_prev)\n",
        "    f -- integer, specifying the shape of the middle CONV's window for the main path\n",
        "    filters -- python list of integers, defining the number of filters in the CONV layers of the main path\n",
        "    stage -- integer, used to name the layers, depending on their position in the network\n",
        "    block -- string/character, used to name the layers, depending on their position in the network\n",
        "    \n",
        "    Returns:\n",
        "    X -- output of the identity block, tensor of shape (n_H, n_W, n_C)\n",
        "    \"\"\"\n",
        "    \n",
        "    # defining name basis\n",
        "    conv_name_base = 'res' + str(stage) + block + '_branch'\n",
        "    bn_name_base = 'bn' + str(stage) + block + '_branch'\n",
        "    \n",
        "    # Retrieve Filters\n",
        "    F1, F2, F3 = filters\n",
        "    \n",
        "    # Save the input value\n",
        "    X_shortcut = X\n",
        "    \n",
        "    # First component of main path\n",
        "    X = Conv2D(filters = F1, kernel_size = (1, 1), strides = (1,1), padding = 'valid', name = conv_name_base + '2a', kernel_initializer = glorot_uniform(seed=0))(X)\n",
        "    X = BatchNormalization(axis = 3, name = bn_name_base + '2a')(X)\n",
        "    X = Activation('relu')(X)\n",
        "    \n",
        "    # Second component of main path\n",
        "    X = Conv2D(filters = F2, kernel_size = (f, f), strides = (1, 1), padding = 'same', name = conv_name_base + '2b', kernel_initializer = glorot_uniform(seed=0))(X)\n",
        "    X = BatchNormalization(axis = 3, name = bn_name_base + '2b')(X)\n",
        "    X = Activation('relu')(X)\n",
        "\n",
        "    # Third component of main path\n",
        "    X = Conv2D(filters = F3, kernel_size = (1, 1), strides = (1,1), padding = 'valid', name = conv_name_base + '2c', kernel_initializer = glorot_uniform(seed=0))(X)\n",
        "    X = BatchNormalization(axis = 3, name = bn_name_base + '2c')(X)\n",
        "\n",
        "    # Final step: combine shortcut and main values - it is a main part of such residual block\n",
        "    X = Add()([X_shortcut, X])\n",
        "    X = Activation('relu')(X)\n",
        "    \n",
        "    return X"
      ],
      "execution_count": 149,
      "outputs": []
    },
    {
      "cell_type": "code",
      "metadata": {
        "id": "_dBt490ZnsJK",
        "colab_type": "code",
        "colab": {}
      },
      "source": [
        "def convolutional_block(X, f, filters, stage, block, s = 2):\n",
        "    \"\"\"\n",
        "    Implementation of the convolutional block\n",
        "    \n",
        "    Arguments:\n",
        "    X -- input tensor of shape (m, n_H_prev, n_W_prev, n_C_prev)\n",
        "    f -- integer, specifying the shape of the middle CONV's window for the main path\n",
        "    filters -- python list of integers, defining the number of filters in the CONV layers of the main path\n",
        "    stage -- integer, used to name the layers, depending on their position in the network\n",
        "    block -- string/character, used to name the layers, depending on their position in the network\n",
        "    s -- Integer, specifying the stride to be used\n",
        "    \n",
        "    Returns:\n",
        "    X -- output of the convolutional block, tensor of shape (n_H, n_W, n_C)\n",
        "    \"\"\"\n",
        "    \n",
        "    # defining name basis\n",
        "    conv_name_base = 'res' + str(stage) + block + '_branch'\n",
        "    bn_name_base = 'bn' + str(stage) + block + '_branch'\n",
        "    \n",
        "    # Retrieve Filters\n",
        "    F1, F2, F3 = filters\n",
        "    \n",
        "    # Save the input value\n",
        "    X_shortcut = X\n",
        "\n",
        "\n",
        "    ##### MAIN PATH #####\n",
        "    # First component of main path \n",
        "    X = Conv2D(F1, (1, 1), strides = (s,s), name = conv_name_base + '2a', padding = 'valid', kernel_initializer = glorot_uniform(seed=0))(X)\n",
        "    X = BatchNormalization(axis = 3, name = bn_name_base + '2a')(X)\n",
        "    X = Activation('relu')(X)\n",
        "\n",
        "    # Second component of main path\n",
        "    X = Conv2D(F2, (f, f), strides = (1,1), name = conv_name_base + '2b', padding = 'same', kernel_initializer = glorot_uniform(seed=0))(X)\n",
        "    X = BatchNormalization(axis = 3, name = bn_name_base + '2b')(X)\n",
        "    X = Activation('relu')(X)\n",
        "\n",
        "    # Third component of main path\n",
        "    X = Conv2D(F3, (1, 1), strides = (1,1), name = conv_name_base + '2c', padding = 'valid', kernel_initializer = glorot_uniform(seed=0))(X)\n",
        "    X = BatchNormalization(axis = 3, name = bn_name_base + '2c')(X)\n",
        "\n",
        "    ##### SHORTCUT PATH ####\n",
        "    X_shortcut = Conv2D(F3, (1, 1), strides = (s,s), name = conv_name_base + '1', padding = 'valid', kernel_initializer = glorot_uniform(seed=0))(X_shortcut)\n",
        "    X_shortcut = BatchNormalization(axis = 3, name = bn_name_base + '1')(X_shortcut)\n",
        "\n",
        "    # Final step: combine shortcut and main values - it is a main part of such residual block\n",
        "    X = Add()([X_shortcut, X])\n",
        "    X = Activation('relu')(X)\n",
        "    \n",
        "    return X"
      ],
      "execution_count": 150,
      "outputs": []
    },
    {
      "cell_type": "markdown",
      "metadata": {
        "id": "-x9Gf-SLy864",
        "colab_type": "text"
      },
      "source": [
        "Combine keras layers and residual blocks to an entire model!"
      ]
    },
    {
      "cell_type": "code",
      "metadata": {
        "id": "qpvnqFfwnsJO",
        "colab_type": "code",
        "colab": {}
      },
      "source": [
        "def ResNet50(input_shape = (64, 64, 3), classes = 6):\n",
        "    \"\"\"\n",
        "    Implementation of the popular ResNet50 the following architecture:\n",
        "    CONV2D -> BATCHNORM -> RELU -> MAXPOOL -> CONVBLOCK -> IDBLOCK*2 -> CONVBLOCK -> IDBLOCK*3\n",
        "    -> CONVBLOCK -> IDBLOCK*5 -> CONVBLOCK -> IDBLOCK*2 -> AVGPOOL -> TOPLAYER\n",
        "\n",
        "    Arguments:\n",
        "    input_shape -- shape of the images of the dataset\n",
        "    classes -- integer, number of classes\n",
        "\n",
        "    Returns:\n",
        "    model -- a Model() instance in Keras\n",
        "    \"\"\"\n",
        "    \n",
        "    # Define the input as a tensor with shape input_shape\n",
        "    X_input = Input(input_shape)\n",
        "\n",
        "    \n",
        "    # Zero-Padding\n",
        "    X = ZeroPadding2D((3, 3))(X_input)\n",
        "    \n",
        "    # Stage 1\n",
        "    X = Conv2D(64, (7, 7), strides = (2, 2), name = 'conv1', kernel_initializer = glorot_uniform(seed=0))(X)\n",
        "    X = BatchNormalization(axis = 3, name = 'bn_conv1')(X)\n",
        "    X = Activation('relu')(X)\n",
        "    X = MaxPooling2D((3, 3), strides=(2, 2))(X)\n",
        "\n",
        "    # Stage 2\n",
        "    X = convolutional_block(X, f = 3, filters = [64, 64, 256], stage = 2, block='a', s = 1)\n",
        "    X = identity_block(X, 3, [64, 64, 256], stage=2, block='b')\n",
        "    X = identity_block(X, 3, [64, 64, 256], stage=2, block='c')\n",
        "    \n",
        "    # Stage 3\n",
        "    X = convolutional_block(X, f = 3, filters = [128, 128, 512], stage = 3, block='a', s = 2)\n",
        "    X = identity_block(X, 3, [128, 128, 512], stage=3, block='b')\n",
        "    X = identity_block(X, 3, [128, 128, 512], stage=3, block='c')\n",
        "    X = identity_block(X, 3, [128, 128, 512], stage=3, block='d')\n",
        "\n",
        "    # Stage 4\n",
        "    X = convolutional_block(X, f = 3, filters = [256, 256, 1024], stage = 4, block='a', s = 2)\n",
        "    X = identity_block(X, 3, [256, 256, 1024], stage=4, block='b')\n",
        "    X = identity_block(X, 3, [256, 256, 1024], stage=4, block='c')\n",
        "    X = identity_block(X, 3, [256, 256, 1024], stage=4, block='d')\n",
        "    X = identity_block(X, 3, [256, 256, 1024], stage=4, block='e')\n",
        "    X = identity_block(X, 3, [256, 256, 1024], stage=4, block='f')\n",
        "\n",
        "    # Stage 5\n",
        "    X = convolutional_block(X, f = 3, filters = [512, 512, 2048], stage = 5, block='a', s = 2)\n",
        "    X = identity_block(X, 3, [512, 512, 2048], stage=5, block='b')\n",
        "    X = identity_block(X, 3, [512, 512, 2048], stage=5, block='c')\n",
        "\n",
        "    # AVGPOOL\n",
        "    X = AveragePooling2D(pool_size = (2, 2), name = 'avg_pool')(X)\n",
        "\n",
        "    # output layer\n",
        "    X = Flatten()(X)\n",
        "    X = Dense(classes, name='fc' + str(classes), kernel_initializer = glorot_uniform(seed=0))(X)\n",
        "    X = tf.keras.activations.softmax(X / Temperature, axis=-1)\n",
        "    \n",
        "    \n",
        "    # Create model\n",
        "    model = Model(inputs = X_input, outputs = X, name='ResNet50')\n",
        "\n",
        "    return model"
      ],
      "execution_count": 151,
      "outputs": []
    },
    {
      "cell_type": "markdown",
      "metadata": {
        "id": "8yHEZ6jjzk4j",
        "colab_type": "text"
      },
      "source": [
        "Compile the model."
      ]
    },
    {
      "cell_type": "code",
      "metadata": {
        "scrolled": true,
        "id": "NGhz26pYnsJW",
        "colab_type": "code",
        "colab": {}
      },
      "source": [
        "model = ResNet50(input_shape = (64, 64, 3), classes = 6)\n",
        "model.compile(optimizer='adam', loss='categorical_crossentropy', metrics=['accuracy'])\n"
      ],
      "execution_count": 152,
      "outputs": []
    },
    {
      "cell_type": "markdown",
      "metadata": {
        "id": "EG6onvapzqPI",
        "colab_type": "text"
      },
      "source": [
        "Upload datasets (not my code)."
      ]
    },
    {
      "cell_type": "code",
      "metadata": {
        "id": "vXgRPxecnsJb",
        "colab_type": "code",
        "colab": {
          "base_uri": "https://localhost:8080/",
          "height": 126
        },
        "outputId": "98c24565-835c-482c-88ef-60b3951c8692"
      },
      "source": [
        "X_train_orig, Y_train_orig, X_test_orig, Y_test_orig, classes = load_dataset()\n",
        "\n",
        "# Normalize image vectors\n",
        "X_train = X_train_orig/255.\n",
        "X_test = X_test_orig/255.\n",
        "\n",
        "# Convert training and test labels to one hot matrices\n",
        "Y_train = convert_to_one_hot(Y_train_orig, 6).T\n",
        "Y_test = convert_to_one_hot(Y_test_orig, 6).T\n",
        "\n",
        "print (\"number of training examples = \" + str(X_train.shape[0]))\n",
        "print (\"number of test examples = \" + str(X_test.shape[0]))\n",
        "print (\"X_train shape: \" + str(X_train.shape))\n",
        "print (\"Y_train shape: \" + str(Y_train.shape))\n",
        "print (\"X_test shape: \" + str(X_test.shape))\n",
        "print (\"Y_test shape: \" + str(Y_test.shape))"
      ],
      "execution_count": 153,
      "outputs": [
        {
          "output_type": "stream",
          "text": [
            "number of training examples = 1080\n",
            "number of test examples = 120\n",
            "X_train shape: (1080, 64, 64, 3)\n",
            "Y_train shape: (1080, 6)\n",
            "X_test shape: (120, 64, 64, 3)\n",
            "Y_test shape: (120, 6)\n"
          ],
          "name": "stdout"
        }
      ]
    },
    {
      "cell_type": "markdown",
      "metadata": {
        "id": "OnBL747t0iD8",
        "colab_type": "text"
      },
      "source": [
        "Number of epochs needed to achieve ~ 98% of accuracy on the test set is about 70."
      ]
    },
    {
      "cell_type": "code",
      "metadata": {
        "id": "-vV5Y72ynsJg",
        "colab_type": "code",
        "colab": {
          "base_uri": "https://localhost:8080/",
          "height": 126
        },
        "outputId": "e7a88c2c-a775-486a-ba24-6f4451cfa0bb"
      },
      "source": [
        "model.fit(X_train, Y_train, epochs = 2, batch_size = 64)"
      ],
      "execution_count": 164,
      "outputs": [
        {
          "output_type": "stream",
          "text": [
            "Train on 1080 samples\n",
            "Epoch 1/2\n",
            "1080/1080 [==============================] - 1s 1ms/sample - loss: 0.0674 - acc: 0.9907\n",
            "Epoch 2/2\n",
            "1080/1080 [==============================] - 1s 1ms/sample - loss: 0.0304 - acc: 0.9981\n"
          ],
          "name": "stdout"
        },
        {
          "output_type": "execute_result",
          "data": {
            "text/plain": [
              "<tensorflow.python.keras.callbacks.History at 0x7f869b330f98>"
            ]
          },
          "metadata": {
            "tags": []
          },
          "execution_count": 164
        }
      ]
    },
    {
      "cell_type": "code",
      "metadata": {
        "id": "n-PeTw2tnsJn",
        "colab_type": "code",
        "colab": {
          "base_uri": "https://localhost:8080/",
          "height": 54
        },
        "outputId": "c32ba308-d246-412b-e009-e53586b4d190"
      },
      "source": [
        "preds = model.evaluate(X_test, Y_test)\n",
        "print(\"Loss = \" + str(preds[0]))\n",
        "print(\"Accuracy = \" + str(preds[1]))\n",
        "Y_predicted_train = model.predict(X_train)\n",
        "Y_train_nn = Y_predicted_train.T"
      ],
      "execution_count": 165,
      "outputs": [
        {
          "output_type": "stream",
          "text": [
            "Loss = 0.0944771279891332\n",
            "Accuracy = 0.975\n"
          ],
          "name": "stdout"
        }
      ]
    },
    {
      "cell_type": "code",
      "metadata": {
        "id": "JlUdEDe3nsJs",
        "colab_type": "code",
        "colab": {
          "base_uri": "https://localhost:8080/",
          "height": 35
        },
        "outputId": "09a85243-13b3-4fc9-e070-12c349cb583c"
      },
      "source": [
        "print(Y_train_nn.shape)"
      ],
      "execution_count": 166,
      "outputs": [
        {
          "output_type": "stream",
          "text": [
            "(6, 1080)\n"
          ],
          "name": "stdout"
        }
      ]
    },
    {
      "cell_type": "code",
      "metadata": {
        "id": "03In42htnsJx",
        "colab_type": "code",
        "colab": {
          "base_uri": "https://localhost:8080/",
          "height": 235
        },
        "outputId": "dd110ce8-f99e-41ef-b5ff-4f4fbdc6f713"
      },
      "source": [
        "print(Y_train_nn)"
      ],
      "execution_count": 167,
      "outputs": [
        {
          "output_type": "stream",
          "text": [
            "[[3.6171221e-03 9.9059922e-01 2.3609211e-03 ... 1.3828456e-03\n",
            "  1.3693939e-03 3.5242534e-03]\n",
            " [1.4668168e-03 2.2078133e-03 3.9379675e-02 ... 2.8643500e-02\n",
            "  2.8359675e-04 1.5177341e-03]\n",
            " [1.7710491e-03 1.3338482e-03 9.4604963e-01 ... 9.6354377e-01\n",
            "  1.3242408e-03 1.4060580e-03]\n",
            " [1.5705141e-03 1.6772916e-03 4.9259486e-03 ... 2.1711069e-03\n",
            "  5.8012077e-04 1.1845685e-03]\n",
            " [8.9386860e-03 2.3073286e-03 4.5774896e-03 ... 2.7508209e-03\n",
            "  9.9197769e-01 6.9082193e-03]\n",
            " [9.8263586e-01 1.8745080e-03 2.7063498e-03 ... 1.5079813e-03\n",
            "  4.4648619e-03 9.8545921e-01]]\n"
          ],
          "name": "stdout"
        }
      ]
    },
    {
      "cell_type": "markdown",
      "metadata": {
        "id": "aNG85Ij109TX",
        "colab_type": "text"
      },
      "source": [
        "Here is the simple NN model comes in! Firstly, let's bring the train/test data to the appropriate view (not my code). "
      ]
    },
    {
      "cell_type": "code",
      "metadata": {
        "id": "MaHzZuofnsJ2",
        "colab_type": "code",
        "colab": {
          "base_uri": "https://localhost:8080/",
          "height": 126
        },
        "outputId": "d96deedb-732a-4a07-b6f4-4ff00c6e93d5"
      },
      "source": [
        "# Flatten the training and test images\n",
        "X_train_flatten = X_train_orig.reshape(X_train_orig.shape[0], -1).T\n",
        "X_test_flatten = X_test_orig.reshape(X_test_orig.shape[0], -1).T\n",
        "\n",
        "# Normalize image vectors\n",
        "X_train = X_train_flatten/255.\n",
        "X_test = X_test_flatten/255.\n",
        "\n",
        "# Convert training and test labels to one hot matrices\n",
        "Y_train = convert_to_one_hot(Y_train_orig, 6)\n",
        "Y_test = convert_to_one_hot(Y_test_orig, 6)\n",
        "\n",
        "print (\"number of training examples = \" + str(X_train.shape[1]))\n",
        "print (\"number of test examples = \" + str(X_test.shape[1]))\n",
        "print (\"X_train shape: \" + str(X_train.shape))\n",
        "print (\"Y_train shape: \" + str(Y_train.shape))\n",
        "print (\"X_test shape: \" + str(X_test.shape))\n",
        "print (\"Y_test shape: \" + str(Y_test.shape))"
      ],
      "execution_count": 168,
      "outputs": [
        {
          "output_type": "stream",
          "text": [
            "number of training examples = 1080\n",
            "number of test examples = 120\n",
            "X_train shape: (12288, 1080)\n",
            "Y_train shape: (6, 1080)\n",
            "X_test shape: (12288, 120)\n",
            "Y_test shape: (6, 120)\n"
          ],
          "name": "stdout"
        }
      ]
    },
    {
      "cell_type": "markdown",
      "metadata": {
        "id": "vWvBq7a21i5T",
        "colab_type": "text"
      },
      "source": [
        "Define all needed functions to run a model. W1 - parameters of size[n_of_classes, image_size], where image_size = 64 * 64 * 3 = 12288, n_of_classes = 6."
      ]
    },
    {
      "cell_type": "code",
      "metadata": {
        "id": "mTak4dnLnsJ6",
        "colab_type": "code",
        "colab": {}
      },
      "source": [
        "def create_placeholders(n_x, n_y):\n",
        "    \n",
        "    X = tf.placeholder(tf.float32, [n_x, None], name = 'X')\n",
        "    Y = tf.placeholder(tf.float32, [n_y, None], name = 'Y')\n",
        "    \n",
        "    return X, Y\n",
        "\n",
        "def initialize_parameters():\n",
        "    \n",
        "    tf.set_random_seed(1)\n",
        "    \n",
        "    W1 = tf.get_variable(\"W1\", [6,12288], initializer = tf.initializers.glorot_uniform(seed = 1))\n",
        "    b1 = tf.get_variable(\"b1\", [6,1], initializer = tf.zeros_initializer())\n",
        "\n",
        "    parameters = {\"W1\": W1,\n",
        "                  \"b1\": b1\n",
        "                 }\n",
        "    \n",
        "    return parameters\n",
        "\n",
        "def forward_propagation(X, parameters):\n",
        "\n",
        "    W1 = parameters['W1']\n",
        "    b1 = parameters['b1']\n",
        "    \n",
        "    Z1 = tf.add(tf.matmul(W1, X), b1)                                                                          \n",
        "    \n",
        "    return Z1\n",
        " \n",
        "\n",
        "def compute_cost(Z1, Y):\n",
        "    \n",
        "    logits = tf.transpose(Z1)\n",
        "    labels = tf.transpose(Y)\n",
        "    \n",
        "    cost = tf.reduce_mean(tf.nn.softmax_cross_entropy_with_logits(logits = logits, labels = labels))\n",
        "    \n",
        "    return cost\n",
        "\n"
      ],
      "execution_count": 170,
      "outputs": []
    },
    {
      "cell_type": "markdown",
      "metadata": {
        "id": "Z9puKbc_2toP",
        "colab_type": "text"
      },
      "source": [
        "Combine everything to a model_nn. I used this model to count parameters_soft(this NN imitates the cumbersome one) and parameters_hard(tries to learn independently from any models).  "
      ]
    },
    {
      "cell_type": "code",
      "metadata": {
        "id": "tgm43h-OnsJ_",
        "colab_type": "code",
        "colab": {}
      },
      "source": [
        "def model_nn(X_train, Y_train, X_test, Y_test, learning_rate = 0.00005,\n",
        "          num_epochs = 1500, minibatch_size = 64, print_cost = True):\n",
        "\n",
        "\n",
        "    ops.reset_default_graph()                         # to be able to rerun the model without overwriting tf variables\n",
        "    seed = 3\n",
        "    print(X_train.shape)\n",
        "    n_x, m = X_train.shape                          # (n_x: input size, m : number of examples in the train set)\n",
        "    n_y = Y_train.shape[0]                          # n_y : output size\n",
        "    costs = []                                      # To keep track of the cost\n",
        "    \n",
        "    # Create Placeholders of shape (n_x, n_y)\n",
        "    X, Y = create_placeholders(n_x, n_y)\n",
        "\n",
        "    # Initialize parameters\n",
        "    parameters = initialize_parameters() \n",
        "    \n",
        "    # Forward propagation: Build the forward propagation in the tensorflow graph\n",
        "    Z3 = forward_propagation(X, parameters)\n",
        "    \n",
        "    # Cost function: Add cost function to tensorflow graph\n",
        "    cost = compute_cost(Z3, Y)\n",
        "    \n",
        "    # Backpropagation: Define the tensorflow optimizer\n",
        "    optimizer = tf.train.AdamOptimizer(learning_rate = learning_rate).minimize(cost)\n",
        "    \n",
        "    # Initialize all the variables\n",
        "    init = tf.global_variables_initializer()\n",
        "\n",
        "    # Start the session to compute the tensorflow graph\n",
        "    with tf.Session() as sess:\n",
        "        \n",
        "        # Run the initialization\n",
        "        sess.run(init)\n",
        "        \n",
        "        # Do the training loop\n",
        "        for epoch in range(num_epochs):\n",
        "\n",
        "            epoch_cost = 0.                           # Defines a cost related to an epoch\n",
        "            num_minibatches = int(m / minibatch_size) # number of minibatches of size minibatch_size in the train set\n",
        "            seed = seed + 1\n",
        "            minibatches = random_mini_batches_nn(X_train, Y_train, minibatch_size, seed)\n",
        "            # learning_rate = learning_rate * 10 / (10 + epoch)\n",
        "\n",
        "            for minibatch in minibatches:\n",
        "\n",
        "                # Select a minibatch\n",
        "                (minibatch_X, minibatch_Y) = minibatch\n",
        "                \n",
        "                # The line that runs the graph on a minibatch\n",
        "                _ , minibatch_cost = sess.run([optimizer, cost], feed_dict = {X: minibatch_X, Y: minibatch_Y})\n",
        "                \n",
        "                epoch_cost += minibatch_cost / minibatch_size\n",
        "\n",
        "            # Print the cost every epoch\n",
        "            if print_cost == True and epoch % 100 == 0:\n",
        "                print (\"Cost after epoch %i: %f\" % (epoch, epoch_cost))\n",
        "            if print_cost == True and epoch % 5 == 0:\n",
        "                costs.append(epoch_cost)\n",
        "                \n",
        "        # plot the cost\n",
        "        plt.plot(np.squeeze(costs))\n",
        "        plt.ylabel('cost')\n",
        "        plt.xlabel('iterations (per fives)')\n",
        "        plt.title(\"Learning rate =\" + str(learning_rate))\n",
        "        plt.show()\n",
        "\n",
        "        # lets save the parameters in a variable\n",
        "        parameters = sess.run(parameters)\n",
        "        print (\"Parameters have been trained!\")\n",
        "\n",
        "        # Calculate the correct predictions\n",
        "        correct_prediction = tf.equal(tf.argmax(Z3), tf.argmax(Y))\n",
        "\n",
        "        # Calculate accuracy on the test set\n",
        "        accuracy = tf.reduce_mean(tf.cast(correct_prediction, \"float\"))\n",
        "\n",
        "        print (\"Train Accuracy:\", accuracy.eval({X: X_train, Y: Y_train_nn})) # change to Y_train when train parameters_hard\n",
        "        print (\"Test Accuracy:\", accuracy.eval({X: X_test, Y: Y_test}))\n",
        "        \n",
        "        return parameters"
      ],
      "execution_count": 173,
      "outputs": []
    },
    {
      "cell_type": "code",
      "metadata": {
        "id": "Jh3izfYOnsKD",
        "colab_type": "code",
        "colab": {
          "base_uri": "https://localhost:8080/",
          "height": 640
        },
        "outputId": "775f7bcf-09aa-4082-dfbd-8d63bd46f398"
      },
      "source": [
        "parameters_soft = model_nn(X_train, Y_train_nn, X_test, Y_test)"
      ],
      "execution_count": 174,
      "outputs": [
        {
          "output_type": "stream",
          "text": [
            "(12288, 1080)\n",
            "Cost after epoch 0: 0.486304\n",
            "Cost after epoch 100: 0.227813\n",
            "Cost after epoch 200: 0.174049\n",
            "Cost after epoch 300: 0.146294\n",
            "Cost after epoch 400: 0.125932\n",
            "Cost after epoch 500: 0.114637\n",
            "Cost after epoch 600: 0.102862\n",
            "Cost after epoch 700: 0.093877\n",
            "Cost after epoch 800: 0.087714\n",
            "Cost after epoch 900: 0.082321\n",
            "Cost after epoch 1000: 0.079291\n",
            "Cost after epoch 1100: 0.075892\n",
            "Cost after epoch 1200: 0.072563\n",
            "Cost after epoch 1300: 0.071233\n",
            "Cost after epoch 1400: 0.068499\n"
          ],
          "name": "stdout"
        },
        {
          "output_type": "display_data",
          "data": {
            "image/png": "[encoded data removed]",
            "text/plain": [
              "<Figure size 432x288 with 1 Axes>"
            ]
          },
          "metadata": {
            "tags": [],
            "needs_background": "light"
          }
        },
        {
          "output_type": "stream",
          "text": [
            "Parameters have been trained!\n",
            "Train Accuracy: 0.99722224\n",
            "Test Accuracy: 0.90833336\n"
          ],
          "name": "stdout"
        }
      ]
    },
    {
      "cell_type": "markdown",
      "metadata": {
        "id": "r-tcf90H4Gk5",
        "colab_type": "text"
      },
      "source": [
        "I've got maximum 92.5% of test accuracy, but the result changes over my trials and sometimes is not so good. However, I achieved ~ 92% several times, so let's consider this accuracy as final for imitating our cumbersome model.\n",
        "\n",
        "Let's change some parameters of model_nn(): learning_rate = 0.0001, num_epochs = 800 (enough for a simple model with big gradients in backprop), Y_train_nn change to Y_train at the end of the model."
      ]
    },
    {
      "cell_type": "code",
      "metadata": {
        "id": "tYXIp4SYnsKH",
        "colab_type": "code",
        "colab": {
          "base_uri": "https://localhost:8080/",
          "height": 513
        },
        "outputId": "7edf9c65-4bd6-4470-d7cc-622de2f84b42"
      },
      "source": [
        "parameters_hard = model_nn(X_train, Y_train, X_test, Y_test)"
      ],
      "execution_count": 146,
      "outputs": [
        {
          "output_type": "stream",
          "text": [
            "(12288, 1080)\n",
            "Cost after epoch 0: 0.486033\n",
            "Cost after epoch 100: 0.165543\n",
            "Cost after epoch 200: 0.105999\n",
            "Cost after epoch 300: 0.075136\n",
            "Cost after epoch 400: 0.055131\n",
            "Cost after epoch 500: 0.043367\n",
            "Cost after epoch 600: 0.033893\n",
            "Cost after epoch 700: 0.024959\n"
          ],
          "name": "stdout"
        },
        {
          "output_type": "display_data",
          "data": {
            "image/png": "[encoded data removed]",
            "text/plain": [
              "<Figure size 432x288 with 1 Axes>"
            ]
          },
          "metadata": {
            "tags": [],
            "needs_background": "light"
          }
        },
        {
          "output_type": "stream",
          "text": [
            "Parameters have been trained!\n",
            "Train Accuracy: 0.9990741\n",
            "Test Accuracy: 0.8833333\n"
          ],
          "name": "stdout"
        }
      ]
    },
    {
      "cell_type": "markdown",
      "metadata": {
        "id": "6UO-ZGea5D1N",
        "colab_type": "text"
      },
      "source": [
        "Here I've got maximum 88% of test accuracy (and 87,5%, when the model was overfitted). For my simple model it seems like the highest accuracy, which can be achieved at current datasets(the model learned its maximum)."
      ]
    },
    {
      "cell_type": "markdown",
      "metadata": {
        "id": "vE9TvCKF89O3",
        "colab_type": "text"
      },
      "source": [
        "# Conclusion\n",
        "A cumbersome model (ResNet50 in my case) achieves significant results in recognizing hand signs. My first experiment(it is in the folder `failed experiments`) was conducted without `Temperature` hyperparameter and it allowed the model to train up to 99,...% of test accuracy. Unfortunately, the info from small probabilities in the output was very poor. That is why imitating model didn't work better than just simple one. `Temperature` increased entropy of the system, which helped small probabilities to prove themselves better. So, approximate results are the following:\n",
        "\n",
        "\n",
        "*   98% - test accuracy of the cumbersome model\n",
        "*   92% - test accuracy of the imitating model\n",
        "*   88% - test accuracy of the simple model\n",
        "\n",
        "Advantages of the imitating model:\n",
        "\n",
        "\n",
        "*   It gives better results on the test data (which can't be achieved by the simple model)\n",
        "*   It works on the test data much faster that the cumbersome model(it is not so noticeable at small datasets as mine - I have only 120 test examples)\n",
        "\n",
        "I decided to conduct an experiment with big amount of data(can be found in `failed experiments` folder). I found MNIST fashion dataset(60000 training pictures, 10000 test pictures, 10 classes, each image_size = 28 * 28 * 1 = 784). To my mind, the experiment failed, because the pictures' quality is very low - simple model can train on them no worse than the cumbersome model.\n",
        "\n",
        "\n",
        "# Can be better?\n",
        "\n",
        "Surely. I think, training on a big dataset will give an opportunity to an imitating model to give amazing performance on the test set. But the pictures' quality should be so good that a simple model can't give cool performance on the test set (can't learn so much info, features). It is a cool field to explore, by the way. Today I've decided to stop on my results, that show: knowledge distillation really works, an imitating model can be implemented in devices with unsufficient computational resources (especially in mobile phones without fast and stable connection to the Internet) and can show user/time-friendly performance!\n",
        "\n",
        "\n",
        "\n",
        "\n",
        "\n",
        "\n"
      ]
    }
  ]
}